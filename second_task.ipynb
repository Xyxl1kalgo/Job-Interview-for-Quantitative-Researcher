{
 "cells": [
  {
   "cell_type": "code",
   "execution_count": null,
   "metadata": {},
   "outputs": [
    {
     "name": "stdout",
     "output_type": "stream",
     "text": [
      "             timestamp  bid_price_1  bid_volume_1  ask_price_1  ask_volume_1  \\\n",
      "0  1751798544260275968      99.9994           229     100.0505            69   \n",
      "1  1751798544260375968      99.9983           292     100.0487           155   \n",
      "2  1751798544260475968     100.0008            99     100.0524           375   \n",
      "3  1751798544260575968      99.9961            28     100.0560           434   \n",
      "4  1751798544260675968     100.0009           442     100.0534           272   \n",
      "\n",
      "   bid_price_2  bid_volume_2  ask_price_2  ask_volume_2  bid_price_3  ...  \\\n",
      "0      99.9899           193     100.0601           490      99.9793  ...   \n",
      "1      99.9879           296     100.0580           496      99.9784  ...   \n",
      "2      99.9908           459     100.0624           276      99.9806  ...   \n",
      "3      99.9858           245     100.0662           490      99.9759  ...   \n",
      "4      99.9906            29     100.0637           464      99.9804  ...   \n",
      "\n",
      "   spread_level_1  spread_level_2  spread_level_3  spread_level_4  \\\n",
      "0          0.0511          0.0702          0.0912          0.1106   \n",
      "1          0.0504          0.0701          0.0896          0.1099   \n",
      "2          0.0516          0.0716          0.0925          0.1122   \n",
      "3          0.0599          0.0804          0.1005          0.1205   \n",
      "4          0.0525          0.0731          0.0931          0.1135   \n",
      "\n",
      "   spread_level_5  spread_level_6  spread_level_7  spread_level_8  \\\n",
      "0          0.1307          0.1507          0.1704          0.1913   \n",
      "1          0.1308          0.1501          0.1695          0.1901   \n",
      "2          0.1324          0.1513          0.1718          0.1918   \n",
      "3          0.1410          0.1604          0.1804          0.2008   \n",
      "4          0.1334          0.1537          0.1733          0.1939   \n",
      "\n",
      "   spread_level_9  spread_level_10  \n",
      "0          0.2113           0.2303  \n",
      "1          0.2101           0.2298  \n",
      "2          0.2127           0.2319  \n",
      "3          0.2212           0.2406  \n",
      "4          0.2126           0.2329  \n",
      "\n",
      "[5 rows x 52 columns]\n"
     ]
    }
   ],
   "source": [
    "import pandas as pd\n",
    "\n",
    "df_order_book = pd.read_csv('order_book_snapshot.csv')\n",
    "\n",
    "spread_at_levels = []\n",
    "\n",
    "for j in range(1, 11):\n",
    "    df_order_book[f'spread_level_{j}'] = df_order_book[f'ask_price_{j}'] - df_order_book[f'bid_price_{j}']\n",
    "\n",
    "spread_columns = [f'spread_level_{j}' for j in range(1, 11)]\n",
    "print(df_order_book[spread_columns].head())\n",
    "#print(df_order_book.head())\n",
    "\n",
    "#for col in spread_columns: \n",
    "    #print(f\"Average {col}: {df_order_book[col].mean():4f}\")"
   ]
  }
 ],
 "metadata": {
  "kernelspec": {
   "display_name": "Python 3",
   "language": "python",
   "name": "python3"
  },
  "language_info": {
   "codemirror_mode": {
    "name": "ipython",
    "version": 3
   },
   "file_extension": ".py",
   "mimetype": "text/x-python",
   "name": "python",
   "nbconvert_exporter": "python",
   "pygments_lexer": "ipython3",
   "version": "3.13.3"
  }
 },
 "nbformat": 4,
 "nbformat_minor": 2
}
